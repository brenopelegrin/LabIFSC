{
  "nbformat": 4,
  "nbformat_minor": 0,
  "metadata": {
    "colab": {
      "provenance": []
    },
    "kernelspec": {
      "name": "python3",
      "display_name": "Python 3"
    },
    "language_info": {
      "name": "python"
    }
  },
  "cells": [
    {
      "cell_type": "markdown",
      "source": [
        "\n",
        "\n",
        "1.   arrendondar as casas decimais certo (init)\n",
        "2.   funções com valores não definidos $tg(\\pi /2)$\n",
        "3.   Definir multiplicação e divisão\n",
        "\n"
      ],
      "metadata": {
        "id": "L3JBwzfsJTX_"
      }
    },
    {
      "cell_type": "code",
      "source": [
        "!pip install git+https://github.com/brenopelegrin/LabIFSC.git"
      ],
      "metadata": {
        "colab": {
          "base_uri": "https://localhost:8080/"
        },
        "id": "IAQJdfKmgLPL",
        "outputId": "6a8485b3-1ea3-4608-9b6e-2d3b57a2c268"
      },
      "execution_count": null,
      "outputs": [
        {
          "output_type": "stream",
          "name": "stdout",
          "text": [
            "Looking in indexes: https://pypi.org/simple, https://us-python.pkg.dev/colab-wheels/public/simple/\n",
            "Collecting git+https://github.com/brenopelegrin/LabIFSC.git\n",
            "  Cloning https://github.com/brenopelegrin/LabIFSC.git to /tmp/pip-req-build-ml3caovu\n",
            "  Running command git clone --filter=blob:none --quiet https://github.com/brenopelegrin/LabIFSC.git /tmp/pip-req-build-ml3caovu\n",
            "  Resolved https://github.com/brenopelegrin/LabIFSC.git to commit 595de75b033806265ae6f2b0e4f386148f73ad7f\n",
            "  Preparing metadata (setup.py) ... \u001b[?25l\u001b[?25hdone\n",
            "Building wheels for collected packages: LabIFSC\n",
            "  Building wheel for LabIFSC (setup.py) ... \u001b[?25l\u001b[?25hdone\n",
            "  Created wheel for LabIFSC: filename=LabIFSC-0.1.13-py3-none-any.whl size=21281 sha256=9633556884e544e4ed1a32149fb16a8a8205382d9b906fbb751db7776fca6b3e\n",
            "  Stored in directory: /tmp/pip-ephem-wheel-cache-97mnpdr9/wheels/6d/ea/fa/e7a1855acf40a6fe305152eea67e6bc7e6bd763c2202f19dfd\n",
            "Successfully built LabIFSC\n",
            "Installing collected packages: LabIFSC\n",
            "Successfully installed LabIFSC-0.1.13\n"
          ]
        }
      ]
    },
    {
      "cell_type": "code",
      "execution_count": 69,
      "metadata": {
        "id": "2eI6iLdF3TsX",
        "colab": {
          "base_uri": "https://localhost:8080/",
          "height": 356
        },
        "outputId": "79426a1b-1565-4e5f-c461-3af6433eee35"
      },
      "outputs": [
        {
          "output_type": "error",
          "ename": "AttributeError",
          "evalue": "ignored",
          "traceback": [
            "\u001b[0;31m---------------------------------------------------------------------------\u001b[0m",
            "\u001b[0;31mAttributeError\u001b[0m                            Traceback (most recent call last)",
            "\u001b[0;32m<ipython-input-69-6912898278fc>\u001b[0m in \u001b[0;36m<cell line: 59>\u001b[0;34m()\u001b[0m\n\u001b[1;32m     57\u001b[0m   \u001b[0;32mreturn\u001b[0m \u001b[0mMedida\u001b[0m\u001b[0;34m(\u001b[0m\u001b[0;34m(\u001b[0m\u001b[0mmedia\u001b[0m\u001b[0;34m,\u001b[0m\u001b[0mdesviopadrao\u001b[0m\u001b[0;34m)\u001b[0m\u001b[0;34m,\u001b[0m\u001b[0;34m\"m\"\u001b[0m\u001b[0;34m)\u001b[0m\u001b[0;34m\u001b[0m\u001b[0;34m\u001b[0m\u001b[0m\n\u001b[1;32m     58\u001b[0m \u001b[0;32mdef\u001b[0m \u001b[0msoma\u001b[0m\u001b[0;34m(\u001b[0m\u001b[0mx\u001b[0m\u001b[0;34m)\u001b[0m\u001b[0;34m:\u001b[0m \u001b[0;32mreturn\u001b[0m \u001b[0mx\u001b[0m\u001b[0;34m[\u001b[0m\u001b[0;36m0\u001b[0m\u001b[0;34m]\u001b[0m\u001b[0;34m/\u001b[0m\u001b[0mx\u001b[0m\u001b[0;34m[\u001b[0m\u001b[0;36m1\u001b[0m\u001b[0;34m]\u001b[0m\u001b[0;34m\u001b[0m\u001b[0;34m\u001b[0m\u001b[0m\n\u001b[0;32m---> 59\u001b[0;31m \u001b[0mc\u001b[0m\u001b[0;34m=\u001b[0m\u001b[0mmontecarlo\u001b[0m\u001b[0;34m(\u001b[0m\u001b[0msoma\u001b[0m\u001b[0;34m,\u001b[0m\u001b[0;36m1e6\u001b[0m\u001b[0;34m,\u001b[0m\u001b[0ma\u001b[0m\u001b[0;34m,\u001b[0m\u001b[0mb\u001b[0m\u001b[0;34m,\u001b[0m\u001b[0;34m\"matplot\"\u001b[0m\u001b[0;34m)\u001b[0m\u001b[0;34m\u001b[0m\u001b[0;34m\u001b[0m\u001b[0m\n\u001b[0m\u001b[1;32m     60\u001b[0m \u001b[0mprint\u001b[0m\u001b[0;34m(\u001b[0m\u001b[0mc\u001b[0m\u001b[0;34m)\u001b[0m\u001b[0;34m\u001b[0m\u001b[0;34m\u001b[0m\u001b[0m\n\u001b[1;32m     61\u001b[0m \u001b[0;34m\u001b[0m\u001b[0m\n",
            "\u001b[0;32m<ipython-input-69-6912898278fc>\u001b[0m in \u001b[0;36mmontecarlo\u001b[0;34m(funcao, N, *lista)\u001b[0m\n\u001b[1;32m     32\u001b[0m   \u001b[0mN\u001b[0m\u001b[0;34m=\u001b[0m\u001b[0mint\u001b[0m\u001b[0;34m(\u001b[0m\u001b[0mN\u001b[0m\u001b[0;34m)\u001b[0m\u001b[0;34m\u001b[0m\u001b[0;34m\u001b[0m\u001b[0m\n\u001b[1;32m     33\u001b[0m   \u001b[0msamples\u001b[0m\u001b[0;34m=\u001b[0m\u001b[0;34m[\u001b[0m\u001b[0;34m]\u001b[0m\u001b[0;34m\u001b[0m\u001b[0;34m\u001b[0m\u001b[0m\n\u001b[0;32m---> 34\u001b[0;31m   \u001b[0;32mfor\u001b[0m \u001b[0mj\u001b[0m \u001b[0;32min\u001b[0m \u001b[0mrange\u001b[0m\u001b[0;34m(\u001b[0m\u001b[0mlen\u001b[0m\u001b[0;34m(\u001b[0m\u001b[0mlista\u001b[0m\u001b[0;34m)\u001b[0m\u001b[0;34m)\u001b[0m\u001b[0;34m:\u001b[0m \u001b[0msamples\u001b[0m\u001b[0;34m.\u001b[0m\u001b[0mappend\u001b[0m\u001b[0;34m(\u001b[0m\u001b[0mnormal\u001b[0m\u001b[0;34m(\u001b[0m\u001b[0mlista\u001b[0m\u001b[0;34m[\u001b[0m\u001b[0mj\u001b[0m\u001b[0;34m]\u001b[0m\u001b[0;34m.\u001b[0m\u001b[0mnominal\u001b[0m\u001b[0;34m,\u001b[0m\u001b[0mlista\u001b[0m\u001b[0;34m[\u001b[0m\u001b[0mj\u001b[0m\u001b[0;34m]\u001b[0m\u001b[0;34m.\u001b[0m\u001b[0mincerteza\u001b[0m\u001b[0;34m,\u001b[0m\u001b[0mN\u001b[0m\u001b[0;34m)\u001b[0m\u001b[0;34m)\u001b[0m\u001b[0;34m\u001b[0m\u001b[0;34m\u001b[0m\u001b[0m\n\u001b[0m\u001b[1;32m     35\u001b[0m   \u001b[0mvalues\u001b[0m\u001b[0;34m=\u001b[0m\u001b[0;34m[\u001b[0m\u001b[0;34m]\u001b[0m\u001b[0;34m\u001b[0m\u001b[0;34m\u001b[0m\u001b[0m\n\u001b[1;32m     36\u001b[0m   \u001b[0;32mfor\u001b[0m \u001b[0mk\u001b[0m \u001b[0;32min\u001b[0m \u001b[0mrange\u001b[0m\u001b[0;34m(\u001b[0m\u001b[0mN\u001b[0m\u001b[0;34m)\u001b[0m\u001b[0;34m:\u001b[0m\u001b[0;34m\u001b[0m\u001b[0;34m\u001b[0m\u001b[0m\n",
            "\u001b[0;31mAttributeError\u001b[0m: 'str' object has no attribute 'nominal'"
          ]
        }
      ],
      "source": [
        "from LabIFSC import*\n",
        "\n",
        "import numpy as np\n",
        "from numpy.random import normal\n",
        "from scipy.stats import skew\n",
        "a=Medida((10,2),\"m\")\n",
        "b=Medida((20,4),\"m\")\n",
        "\n",
        "def skewness(valores,desviopadrao,media):#usado para medir o quanto uma distribuição é assimétrica (ou quanto ela foge de uma gaussiana)\n",
        "  m3=0\n",
        "  for j in valores:\n",
        "    m3+=(j-media)**3\n",
        "  m3=m3/len(valores)\n",
        "  g1=m3/(desviopadrao**(1.5))\n",
        "  return g1\n",
        "def montecarlo(funcao,N,*lista):\n",
        "  ##parametros adicionais\n",
        "  matplot=\"no\"\n",
        "  numpy=\"no\"\n",
        "  for j in lista:\n",
        "    if type(j)==\"str\":\n",
        "      print(\"e\")\n",
        "      if j in [\"hist\",\"graph\",\"matplot\",\"print\"] :\n",
        "        print(\"hey\")\n",
        "        matplot=\"yes\"\n",
        "        lista.remove(j)\n",
        "      elif j in [\"numpy\",\"np\"]:\n",
        "        numpy=\"yes\"\n",
        "        lista.remove(j)\n",
        "      else: \n",
        "        lista.remove(j)\n",
        "  N=int(N)\n",
        "  samples=[]\n",
        "  for j in range(len(lista)): samples.append(normal(lista[j].nominal,lista[j].incerteza,N))\n",
        "  values=[]\n",
        "  for k in range(N):\n",
        "    temp=[]\n",
        "    for j in range(len(lista)):\n",
        "      temp+=[samples[j][k]]\n",
        "    values.append(funcao(tuple(temp)))\n",
        "  if matplot==\"yes\":\n",
        "    try: \n",
        "      from matplotlib.pyplot import hist\n",
        "      hist(values,100)\n",
        "    except: raise Exception(\"You need to install matplotlib to show the histogram\")\n",
        "  if numpy==\"yes\":\n",
        "    from numpy import average,std\n",
        "    media=np.average(values)\n",
        "    desviopadrao=np.std(values)\n",
        "  else:\n",
        "    media=sum(values)/len(values)\n",
        "    desviopadrao=0\n",
        "    for j in lista:\n",
        "      desviopadrao+=(media-j)**2\n",
        "    desviopadrao=(desviopadrao/len(values))**(1/2)\n",
        "  skew=skewness(values,desviopadrao,media)\n",
        "  return Medida((media,desviopadrao),\"m\")\n",
        "def soma(x): return x[0]/x[1]\n",
        "c=montecarlo(soma,1e6,a,b,\"matplot\")\n",
        "print(c)\n",
        "\n",
        "\n",
        "        "
      ]
    },
    {
      "cell_type": "code",
      "source": [
        "\n",
        "def onda(v):\n",
        "  A=v[0]\n",
        "  omega=v[1]\n",
        "  phi=v[2]\n",
        "  t=v[3]\n",
        "  return A*np.cos(omega*t+phi)\n",
        "def dividindo(v):\n",
        "  return v[0]/v[1]\n"
      ],
      "metadata": {
        "id": "uBF0PDUS5Dgy",
        "colab": {
          "base_uri": "https://localhost:8080/",
          "height": 447
        },
        "outputId": "d267a492-67ea-4090-94b5-719f5e3cf1a5"
      },
      "execution_count": null,
      "outputs": [
        {
          "output_type": "stream",
          "name": "stdout",
          "text": [
            "average 0.9999993085222422 std 0.0014153710648880007 skewness -0.009770024726222331\n"
          ]
        },
        {
          "output_type": "display_data",
          "data": {
            "text/plain": [
              "<Figure size 640x480 with 1 Axes>"
            ],
            "image/png": "[encoded data removed]"
          },
          "metadata": {}
        }
      ]
    }
  ]
}