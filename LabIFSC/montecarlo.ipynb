{
  "nbformat": 4,
  "nbformat_minor": 0,
  "metadata": {
    "colab": {
      "provenance": []
    },
    "kernelspec": {
      "name": "python3",
      "display_name": "Python 3"
    },
    "language_info": {
      "name": "python"
    }
  },
  "cells": [
    {
      "cell_type": "markdown",
      "source": [
        "\n",
        "\n",
        "1.   arrendondar as casas decimais certo (init)\n",
        "2.   funções com valores não definidos $tg(\\pi /2)$\n",
        "3.   Definir multiplicação e divisão\n",
        "\n"
      ],
      "metadata": {
        "id": "L3JBwzfsJTX_"
      }
    },
    {
      "cell_type": "code",
      "source": [
        "!pip install git+https://github.com/brenopelegrin/LabIFSC.git"
      ],
      "metadata": {
        "colab": {
          "base_uri": "https://localhost:8080/"
        },
        "id": "IAQJdfKmgLPL",
        "outputId": "e223d12b-6134-4c64-df3c-c8d8ae477bca"
      },
      "execution_count": 2,
      "outputs": [
        {
          "output_type": "stream",
          "name": "stdout",
          "text": [
            "Looking in indexes: https://pypi.org/simple, https://us-python.pkg.dev/colab-wheels/public/simple/\n",
            "Collecting git+https://github.com/brenopelegrin/LabIFSC.git\n",
            "  Cloning https://github.com/brenopelegrin/LabIFSC.git to /tmp/pip-req-build-yp1qx7o2\n",
            "  Running command git clone --filter=blob:none --quiet https://github.com/brenopelegrin/LabIFSC.git /tmp/pip-req-build-yp1qx7o2\n",
            "  Resolved https://github.com/brenopelegrin/LabIFSC.git to commit 595de75b033806265ae6f2b0e4f386148f73ad7f\n",
            "  Preparing metadata (setup.py) ... \u001b[?25l\u001b[?25hdone\n",
            "Building wheels for collected packages: LabIFSC\n",
            "  Building wheel for LabIFSC (setup.py) ... \u001b[?25l\u001b[?25hdone\n",
            "  Created wheel for LabIFSC: filename=LabIFSC-0.1.13-py3-none-any.whl size=21281 sha256=4bdf29c65d20458d7ac2b4f9098854fd396da6cfd352d4bdfd6e1d18811562ae\n",
            "  Stored in directory: /tmp/pip-ephem-wheel-cache-oskeivk_/wheels/6d/ea/fa/e7a1855acf40a6fe305152eea67e6bc7e6bd763c2202f19dfd\n",
            "Successfully built LabIFSC\n",
            "Installing collected packages: LabIFSC\n",
            "Successfully installed LabIFSC-0.1.13\n"
          ]
        }
      ]
    },
    {
      "cell_type": "code",
      "execution_count": 109,
      "metadata": {
        "id": "2eI6iLdF3TsX",
        "colab": {
          "base_uri": "https://localhost:8080/"
        },
        "outputId": "aee24008-afb6-4f20-bbd2-927ce9ef0d4f"
      },
      "outputs": [
        {
          "output_type": "stream",
          "name": "stdout",
          "text": [
            "Esse é o resultado lienar (0.5±0.2) s⁻²\n",
            "(0.5±0.2) s⁻²\n"
          ]
        }
      ],
      "source": [
        "from LabIFSC import*\n",
        "import pkg_resources\n",
        "installed= {pkg.key for pkg in pkg_resources.working_set}\n",
        "\n",
        "def skewness(valores,desviopadrao,media):#usado para medir o quanto uma distribuição é assimétrica (ou quanto ela foge de uma gaussiana)\n",
        "  m3=0\n",
        "  for j in valores:\n",
        "    m3+=(j-media)**3\n",
        "  m3=m3/len(valores)\n",
        "  g1=m3/(desviopadrao**(1.5))\n",
        "  return g1\n",
        "\n",
        "def montecarlo(funcao=sum,N=1e4,parametros=[Medida((2,0.14),\"m\"),Medida((4,0.1),\"m\")],hist=False,bins=100,assimetria=\"false\",comparar=False):\n",
        "  N=int(N)\n",
        "  samples=[]\n",
        "  if \"numpy\" in installed:\n",
        "    from numpy.random import normal\n",
        "    for j in range(len(parametros)): \n",
        "      samples.append(normal(parametros[j].nominal,parametros[j].incerteza,N))\n",
        "  else:\n",
        "    from random import gauss\n",
        "    for j in range(len(parametros)): \n",
        "      samples.append(gauss(parametros[j].nominal,parametros[j].incerteza,N))\n",
        "  values=[]\n",
        "  for k in range(N):\n",
        "    temp=[]\n",
        "    for j in range(len(parametros)):\n",
        "      temp+=[samples[j][k]]\n",
        "    values.append(funcao(tuple(temp)))\n",
        "  if \"matplotlib\" in installed and hist==True:\n",
        "    from matplotlib.pyplot import hist\n",
        "    hist(values,bins)\n",
        "  if \"numpy\" in installed:\n",
        "    from numpy import average,std\n",
        "    media=average(values)\n",
        "    desviopadrao=std(values)\n",
        "  else:\n",
        "    media=sum(values)/len(values)\n",
        "    desviopadrao=0\n",
        "    for j in values:\n",
        "      desviopadrao+=(media-j)**2\n",
        "    desviopadrao=(desviopadrao/len(values))**(1/2)\n",
        "  skew=skewness(values,desviopadrao,media)\n",
        "  if assimetria ==True:\n",
        "    print(f\"O terceiro momento estátistico é {skew}\")\n",
        "  metodolinear=funcao(parametros)\n",
        "  if comparar==True: print(f\"Esse é o resultado lienar {metodolinear}\")\n",
        "  return Medida((media,desviopadrao),metodolinear.unidade())\n",
        "def soma(x): return x[0]/x[1]\n",
        "a=Medida((10,2),\"m/s^2\")\n",
        "b=Medida((20,4),\"m\")\n",
        "c=montecarlo(funcao=soma,parametros=[a,b],N=1e5,comparar=True)\n",
        "print(c)\n",
        "        "
      ]
    }
  ]
}